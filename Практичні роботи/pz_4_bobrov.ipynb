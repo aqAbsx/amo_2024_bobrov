{
 "cells": [
  {
   "cell_type": "markdown",
   "id": "31c2c038-3e19-4d66-9fc2-96cc4f9cffc2",
   "metadata": {},
   "source": [
    "# <center> Практична робота №4 </center>\n",
    "## Тема: \n",
    "### Тема. Алгоритми пошуку та їх складність\n",
    "## Мета: \n",
    "### Опанувати основні алгоритми сортування та навчитись методам аналізу їх асимптотичної складності"
   ]
  },
  {
   "cell_type": "markdown",
   "id": "7b14ef1e-e2fd-418c-aa88-2308ced63c0b",
   "metadata": {
    "jp-MarkdownHeadingCollapsed": true
   },
   "source": [
    "## <center> Хід роботи </center>"
   ]
  },
  {
   "cell_type": "markdown",
   "id": "9d750c4a-4deb-41b4-9462-508e5ad0504d",
   "metadata": {},
   "source": [
    "## 1) Оцінити асимптотичну складність алгоритму лінійного пошуку у 𝑂-нотації в найгіршому і в найкращому випадку. Як можна покращити алгоритм лінійного пошуку?"
   ]
  },
  {
   "cell_type": "markdown",
   "id": "2fb49a36-9d10-4e64-872a-0acf741f7023",
   "metadata": {},
   "source": [
    "# Асимптотична складність алгоритму лінійного пошуку\n",
    "\n",
    "### Оцінка асимптотичної складності алгоритму лінійного пошуку\n",
    "\n",
    "#### 1. Найкращий випадок\n",
    "- У найкращому випадку шуканий елемент знаходиться на початку списку, тому виконується лише одна перевірка.\n",
    "- Часова складність:\n",
    "  $$\n",
    "  O(1)\n",
    "  $$\n",
    "\n",
    "#### 2. Найгірший випадок\n",
    "- У найгіршому випадку:\n",
    "  - Шуканий елемент розташований у кінці списку, або\n",
    "  - Шуканого елемента немає у списку, і перевіряються всі $n$ елементів.\n",
    "- Часова складність:\n",
    "  $$\n",
    "  O(n)\n",
    "  $$\n",
    "\n",
    "---\n",
    "\n",
    "### Як можна покращити алгоритм лінійного пошуку?\n",
    "\n",
    "1. **Використання впорядкованості даних**:\n",
    "   - Якщо список впорядкований, пошук можна припинити, коли знайдено елемент більший за шуканий.\n",
    "   - Наприклад, для списку $\\{1, 3, 5, 7, 9\\}$ при пошуку $4$ алгоритм зупиняється на $5$, замість перевірки всього списку.\n",
    "\n",
    "2. **Додавання \"вартового\" елемента**:\n",
    "   - Додайте в кінець списку \"вартовий\" елемент, рівний шуканому значенню.\n",
    "   - Це усуває необхідність перевіряти вихід за межі списку.\n",
    "   - Наприклад, для списку $\\{2, 4, 6, 8\\}$ і пошуку $5$ додається вартовий елемент $5$: $\\{2, 4, 6, 8, 5\\}$.\n",
    "\n",
    "3. **Паралелізація пошуку**:\n",
    "   - Для великих наборів даних розділіть список на кілька частин і шукайте одночасно у кожній частині за допомогою багатопоточності.\n",
    "   - Наприклад, список $\\{1, 2, 3, 4, 5, 6, 7, 8, 9, 10\\}$ розділяється на дві частини $\\{1, 2, 3, 4, 5\\}$ і $\\{6, 7, 8, 9, 10\\}$.\n",
    "\n",
    "4. **Перехід до ефективніших алгоритмів пошуку**:\n",
    "   - Для впорядкованих списків використовуйте **бінарний пошук** із складністю $O(\\log n)$.\n",
    "   - Для великих даних застосовуйте **хеш-таблиці**, де середня складність пошуку дорівнює $O(1)$.\n",
    "\n",
    "5. **Індексація**:\n",
    "   - Використовуйте індексацію, як у базах даних, для пришвидшення пошуку.\n",
    "   - Наприклад, створіть індекс для списку $\\{10, 20, 30, 40\\}$, щоб швидко знайти елемент $30$.\n",
    "\n",
    "---"
   ]
  },
  {
   "cell_type": "markdown",
   "id": "ba96e54e-67c6-40cc-9e21-46ca5910b24f",
   "metadata": {},
   "source": [
    "## 2) Оцінити асимптотичну складність алгоритму бінарного пошуку у 𝑂-нотації в найгіршому і в найкращому випадку.\n"
   ]
  },
  {
   "cell_type": "markdown",
   "id": "8c20579b-19d6-44a4-a183-3270e2decd48",
   "metadata": {},
   "source": [
    "\n",
    "### Алгоритм **бінарного пошуку** використовується для пошуку елемента в упорядкованому масиві шляхом багаторазового ділення простору пошуку навпіл.\n",
    "\n",
    "## Складність у $O$-нотації\n",
    "\n",
    "### Найгірший випадок\n",
    "У найгіршому випадку шуканий елемент відсутній у масиві, або він знаходиться в такій позиції, що вимагає максимальну кількість поділів. Кожного разу кількість елементів для перевірки зменшується вдвічі. \n",
    "\n",
    "Кількість ітерацій визначається рівнянням:\n",
    "$$\n",
    "n \\to \\frac{n}{2} \\to \\frac{n}{4} \\to \\dots \\to 1\n",
    "$$\n",
    "\n",
    "Це відповідає $k$ ітераціям, де:\n",
    "$$\n",
    "\\frac{n}{2^k} = 1 \\implies k = \\log_2 n\n",
    "$$\n",
    "\n",
    "Таким чином, асимптотична складність у найгіршому випадку:\n",
    "$$\n",
    "O(\\log n)\n",
    "$$\n",
    "\n",
    "### Найкращий випадок\n",
    "У найкращому випадку шуканий елемент знаходиться на середній позиції масиву вже при першій перевірці. Тобто виконується лише одна операція перевірки.\n",
    "\n",
    "Асимптотична складність у найкращому випадку:\n",
    "$$\n",
    "O(1)\n",
    "$$"
   ]
  },
  {
   "cell_type": "markdown",
   "id": "958a0cb7-03d4-49e3-a9a1-10fc9851f8f6",
   "metadata": {},
   "source": [
    "## 3) Побудувати алгоритм тернарного пошуку і оцінити його асимптотичну складність алгоритму у 𝑂-нотації в найгіршому і в найкращому випадку. Який з алгоритмів є оптимальнішим: бінарний, чи тернарний? Обґрунтувати відповідь відповідними обчисленнями."
   ]
  },
  {
   "cell_type": "markdown",
   "id": "c73b961e-e8b8-4c03-b9a2-e92fafe3c57b",
   "metadata": {},
   "source": [
    "# Алгоритм тернарного пошуку та оцінка його складності\n",
    "\n",
    "## Алгоритм тернарного пошуку\n",
    "\n",
    "Тернарний пошук застосовується для пошуку елемента в упорядкованому масиві шляхом ділення простору пошуку на три частини. Його ідея:\n",
    "\n",
    "1. Упорядкований масив поділяється на три частини за двома індексами:\n",
    "   - Перший індекс: $m_1 = \\lfloor l + \\frac{r-l}{3} \\rfloor$\n",
    "   - Другий індекс: $m_2 = \\lfloor r - \\frac{r-l}{3} \\rfloor$\n",
    "2. Елемент, що шукається, порівнюється з елементами на позиціях $m_1$ та $m_2$:\n",
    "   - Якщо шуканий елемент дорівнює $A[m_1]$, повертається $m_1$.\n",
    "   - Якщо шуканий елемент дорівнює $A[m_2]$, повертається $m_2$.\n",
    "   - Якщо елемент менший за $A[m_1]$, пошук продовжується в лівій частині $[l, m_1 - 1]$.\n",
    "   - Якщо елемент більший за $A[m_2]$, пошук продовжується в правій частині $[m_2 + 1, r]$.\n",
    "   - В іншому випадку пошук відбувається в середній частині $[m_1 + 1, m_2 - 1]$.\n",
    "3. Процес повторюється, поки індекси $l$ та $r$ не співпадуть.\n",
    "\n",
    "## Асимптотична складність тернарного пошуку\n",
    "\n",
    "### Найгірший випадок\n",
    "У найгіршому випадку тернарний пошук виконує $k$ ітерацій, де на кожній ітерації кількість елементів зменшується до $\\frac{1}{3}$ від попередньої. \n",
    "\n",
    "Кількість ітерацій визначається рівнянням:\n",
    "$$\n",
    "n \\to \\frac{n}{3} \\to \\frac{n}{9} \\to \\dots \\to 1\n",
    "$$\n",
    "\n",
    "Це відповідає $k$ ітераціям, де:\n",
    "$$\n",
    "\\frac{n}{3^k} = 1 \\implies k = \\log_3 n\n",
    "$$\n",
    "\n",
    "Таким чином, асимптотична складність у найгіршому випадку:\n",
    "$$\n",
    "O(\\log n)\n",
    "$$\n",
    "\n",
    "### Найкращий випадок\n",
    "У найкращому випадку шуканий елемент збігається з $A[m_1]$ або $A[m_2]$ на першій ітерації. Це вимагає лише однієї операції перевірки.\n",
    "\n",
    "Асимптотична складність у найкращому випадку:\n",
    "$$\n",
    "O(1)\n",
    "$$\n",
    "\n",
    "## Порівняння тернарного та бінарного пошуків\n",
    "\n",
    "Для визначення, який алгоритм є оптимальнішим, порівняємо швидкість зменшення пошукового простору. У бінарному пошуку розмір простору зменшується на половину, а в тернарному – на третину.\n",
    "\n",
    "Кількість ітерацій для бінарного пошуку:\n",
    "$$\n",
    "\\log_2 n\n",
    "$$\n",
    "\n",
    "Кількість ітерацій для тернарного пошуку:\n",
    "$$\n",
    "\\log_3 n = \\frac{\\log_2 n}{\\log_2 3}\n",
    "$$\n",
    "\n",
    "Оскільки $\\log_2 3 \\approx 1.585$, отже:\n",
    "$$\n",
    "\\log_3 n > \\log_2 n\n",
    "$$\n",
    "\n",
    "Це означає, що тернарний пошук вимагає більше ітерацій для завершення, ніж бінарний. Таким чином, бінарний пошук є оптимальнішим за тернарний."
   ]
  },
  {
   "cell_type": "markdown",
   "id": "5fe01261-c759-4323-9e49-0d50760ee59e",
   "metadata": {},
   "source": [
    "## 4) Порівняти ефективність алгоритмів лінійного, бінарного та тернарного пошуку для різних розмірів вхідного списку. Для цього провести експериментальне дослідження та побудувати графіки залежності часу виконання алгоритму від розміру вхідного списку."
   ]
  },
  {
   "cell_type": "code",
   "execution_count": 29,
   "id": "83fa3fd4-d3f1-4b4a-8a70-a0eff7914866",
   "metadata": {},
   "outputs": [
    {
     "data": {
      "image/png": "[encoded data removed]",
      "text/plain": [
       "<Figure size 1000x600 with 1 Axes>"
      ]
     },
     "metadata": {},
     "output_type": "display_data"
    }
   ],
   "source": [
    "import numpy as np\n",
    "import matplotlib.pyplot as plt\n",
    "\n",
    "# Input size (n)\n",
    "n = np.linspace(1, 500)\n",
    "\n",
    "# Time complexities\n",
    "linear = n  # O(n)\n",
    "binary = np.log2(n)  # O(log n)\n",
    "ternary = np.log(n) / np.log(3)  # O(log3 n)\n",
    "\n",
    "# Plotting\n",
    "plt.figure(figsize=(10, 6))\n",
    "plt.plot(n, linear, label=\"Лінійний алгоритм (O(n))\", color=\"blue\")\n",
    "plt.plot(n, binary, label=\"Бінарний алгоритм (O(log n))\", color=\"green\")\n",
    "plt.plot(n, ternary, label=\"Тернарний алгоритм (O(log3 n))\", color=\"red\")\n",
    "plt.title(\"Залежність продуктивності алгоритмів від розміру вхідних даних\", fontsize=14)\n",
    "plt.xlabel(\"Розмір вхідних даних (n)\", fontsize=12)\n",
    "plt.ylabel(\"Часова складність\", fontsize=12)\n",
    "plt.legend(fontsize=10)\n",
    "plt.grid(True)\n",
    "plt.show()"
   ]
  },
  {
   "cell_type": "markdown",
   "id": "4603aa9d-d9fb-4453-9ccb-afb9c7923df9",
   "metadata": {},
   "source": [
    "### Аналіз ефективності алгоритмів пошуку\n",
    "\n",
    "## Лінійний пошук:\n",
    "\n",
    "Час виконання зростає лінійно зі збільшенням розміру списку.\n",
    "Найменш ефективний для великих списків, оскільки його складність $O(n)$.\n",
    "## Бінарний пошук:\n",
    "\n",
    "Час виконання зростає логарифмічно зі збільшенням розміру списку.\n",
    "Найефективніший для великих списків, оскільки його складність $O(\\log n)$.\n",
    "## Тернарний пошук:\n",
    "\n",
    "Час виконання також зростає логарифмічно.\n",
    "Хоча його теоретична складність також $O(\\log n)$, бінарний пошук має менший коефіцієнт, тому він швидший.\n"
   ]
  },
  {
   "cell_type": "markdown",
   "id": "f22fedc1-54bb-4921-9ac4-0134ad9e520c",
   "metadata": {},
   "source": [
    "## 5) Порівняти алгоритми пошуку за їхньою здатністю працювати з відсортованими та не відсортованими списками. Провести аналіз впливу відсортованості списку на час виконання кожного алгоритму."
   ]
  },
  {
   "cell_type": "markdown",
   "id": "67c7e948-dc89-471c-aba1-dcca30264d22",
   "metadata": {},
   "source": [
    "# Порівняння алгоритмів пошуку: відсортовані та невідсортовані списки\n",
    "\n",
    "Алгоритми пошуку мають різну ефективність залежно від стану списку: чи є він відсортованим, чи ні. Розглянемо кожен алгоритм окремо.\n",
    "\n",
    "---\n",
    "\n",
    "## Лінійний пошук\n",
    "**Опис:** Лінійний пошук перевіряє всі елементи послідовно, тому його продуктивність не залежить від відсортованості списку.\n",
    "\n",
    "- **Для невідсортованих списків:**  \n",
    "  Лінійний пошук працює без змін, оскільки він не використовує жодної інформації про порядок елементів.  \n",
    "  **Часова складність:** $O(n)$\n",
    "\n",
    "- **Для відсортованих списків:**  \n",
    "  Відсортованість списку не покращує роботу лінійного пошуку, оскільки він все одно перебирає елементи один за одним.  \n",
    "  **Часова складність:** $O(n)$\n",
    "\n",
    "---\n",
    "\n",
    "## Бінарний пошук\n",
    "**Опис:** Бінарний пошук застосовує стратегію поділу списку навпіл на кожній ітерації, що значно підвищує ефективність, але вимагає відсортованого списку.\n",
    "\n",
    "- **Для невідсортованих списків:**  \n",
    "  Бінарний пошук не може працювати без попереднього сортування списку. Сортування додає додаткову складність $O(n \\log n)$.  \n",
    "  **Загальна складність (сортування + пошук):** $O(n \\log n)$\n",
    "\n",
    "- **Для відсортованих списків:**  \n",
    "  Бінарний пошук демонструє високу ефективність завдяки логарифмічному часу виконання.  \n",
    "  **Часова складність:** $O(\\log n)$\n",
    "\n",
    "---\n",
    "\n",
    "## Тернарний пошук\n",
    "**Опис:** Тернарний пошук поділяє список на три частини замість двох, як це робить бінарний пошук.\n",
    "\n",
    "- **Для невідсортованих списків:**  \n",
    "  Як і бінарний пошук, тернарний пошук вимагає відсортованого списку. Попереднє сортування додає складність $O(n \\log n)$.  \n",
    "  **Загальна складність (сортування + пошук):** $O(n \\log n)$\n",
    "\n",
    "- **Для відсортованих списків:**  \n",
    "  Тернарний пошук працює подібно до бінарного, але розбиває список на три частини, що в теорії може зменшити кількість ітерацій. Однак на практиці через додаткові порівняння продуктивність часто не перевершує бінарний пошук.  \n",
    "  **Часова складність:** $O(\\log n)$\n",
    "\n",
    "---\n",
    "\n",
    "## Вплив відсортованості списку на продуктивність\n",
    "\n",
    "| **Алгоритм**       | **Невідсортовані списки** | **Відсортовані списки**   |\n",
    "|---------------------|---------------------------|---------------------------|\n",
    "| **Лінійний пошук**  | $O(n)$                   | $O(n)$                   |\n",
    "| **Бінарний пошук**  | $O(n \\log n)$ (сортування)| $O(\\log n)$              |\n",
    "| **Тернарний пошук** | $O(n \\log n)$ (сортування)| $O(\\log n)$              |\n",
    "\n",
    "### Висновок:\n",
    "1. **Лінійний пошук** залишається універсальним, але його продуктивність не покращується на відсортованих списках.\n",
    "2. **Бінарний пошук** та **тернарний пошук** значно ефективніші на відсортованих списках, досягаючи складності $O(\\log n)$.\n",
    "3. Для невідсортованих списків додаткові витрати на сортування роблять бінарний і тернарний пошук менш ефективними порівняно з лінійним.\n",
    "\n",
    "Таким чином, вибір алгоритму пошуку залежить від стану списку та необхідної продуктивності.\n"
   ]
  },
  {
   "cell_type": "markdown",
   "id": "be7507c6-46a7-48d2-a293-6aa2fd6d0a11",
   "metadata": {},
   "source": [
    "## 6) Розглянути сценарії використання кожного з алгоритмів пошуку у практичних задачах і обґрунтувати вибір кожного алгоритму в конкретному випадку"
   ]
  },
  {
   "cell_type": "markdown",
   "id": "26883b88-0ca4-4788-a9c3-3a54997f2ecf",
   "metadata": {},
   "source": [
    "# Сценарії використання алгоритмів пошуку\n",
    "\n",
    "## 1. Лінійний пошук\n",
    "\n",
    "**Сценарії застосування:**  \n",
    "- Оптимальний для **невеликих списків** або даних, які **не відсортовані**.  \n",
    "- Використовується у випадках, коли забезпечити сортування неможливо або недоцільно, наприклад, при роботі з динамічними базами даних без індексів.  \n",
    "- Підходить для задач, де **пошук виконується одноразово** або кількість елементів у списку є невеликою.  \n",
    "\n",
    "**Причини вибору:**  \n",
    "Лінійний пошук — це простий і універсальний метод. Його часова складність $O(n)$ робить його доцільним для невеликих списків або ситуацій, коли сортування не є необхідним. Його ключова перевага полягає у відсутності вимог до попереднього впорядкування даних.\n",
    "\n",
    "---\n",
    "\n",
    "## 2. Бінарний пошук\n",
    "\n",
    "**Сценарії застосування:**  \n",
    "- Ідеально підходить для **відсортованих списків**, які змінюються рідко або не змінюються взагалі.  \n",
    "- Використовується в задачах із великою кількістю пошуків в **індексованих структурах**, таких як бази даних чи пошукові системи.  \n",
    "- Ефективний для **відсортованих масивів** і **бінарних дерев**, які дозволяють застосовувати стратегію поділу на половини.  \n",
    "\n",
    "**Причини вибору:**  \n",
    "Завдяки часовій складності $O(\\log n)$, бінарний пошук забезпечує значно вищу продуктивність порівняно з лінійним пошуком, особливо для великих обсягів даних. Це робить його основним інструментом для ефективного пошуку у впорядкованих структурах.\n",
    "\n",
    "---\n",
    "\n",
    "## 3. Тернарний пошук\n",
    "\n",
    "**Сценарії застосування:**  \n",
    "- Використовується для **відсортованих списків**, коли розділення на **три частини** може сприяти додатковій оптимізації.  \n",
    "- Корисний у задачах, де **зменшення кількості порівнянь** є критичним, наприклад, коли кожне порівняння є ресурсомістким.  \n",
    "- Може бути застосований у **оптимізаційних задачах**, де важливо мінімізувати кількість ітерацій або операцій.  \n",
    "\n",
    "**Причини вибору:**  \n",
    "Хоча тернарний пошук теоретично пропонує зменшення кількості ітерацій завдяки поділу списку на три частини, на практиці його переваги над бінарним пошуком є мінімальними через додаткові операції порівняння. Однак у деяких випадках він може бути ефективним для специфічних задач, де вартість одного порівняння є дуже високою.\n",
    "\n",
    "---\n",
    "\n",
    "## Обґрунтування вибору алгоритму в практичних задачах\n",
    "\n",
    "- **Лінійний пошук** підходить для малих списків або невідсортованих даних, коли пошук виконується рідко або одноразово.  \n",
    "- **Бінарний пошук** є найкращим вибором для великих відсортованих списків, особливо коли пошук потрібно виконувати багаторазово.  \n",
    "- **Тернарний пошук** може бути корисним для відсортованих списків у випадках, де важливо мінімізувати кількість ітерацій, але його практичні переваги не завжди суттєві у порівнянні з бінарним пошуком.\n"
   ]
  },
  {
   "cell_type": "markdown",
   "id": "49a8c1ff-c348-4dd2-bec0-ed234cce6936",
   "metadata": {},
   "source": [
    "# <center> Контрольні питання </center>"
   ]
  },
  {
   "cell_type": "markdown",
   "id": "e7882fa6-b921-499e-8d58-4ae0f9319694",
   "metadata": {},
   "source": [
    "## 1) Що таке алгоритм пошуку і чому він важливий у контексті комп'ютерних наук?"
   ]
  },
  {
   "cell_type": "markdown",
   "id": "d18dbf9f-027e-4024-9f10-b5d5808a063d",
   "metadata": {},
   "source": [
    "# Алгоритми пошуку: Основні поняття та принципи\n",
    "\n",
    "## 1. Що таке алгоритм пошуку і чому він важливий у контексті комп'ютерних наук?\n",
    "\n",
    "**Алгоритм пошуку** — це набір інструкцій або кроків, які використовуються для **знаходження певного елемента** у структурі даних (масиві, списку, дереві тощо). Пошук може здійснюватися за ключовим значенням, індексом або іншими критеріями.\n",
    "\n",
    "**Важливість у комп'ютерних науках:**\n",
    "- Алгоритми пошуку є **основою** для багатьох завдань у програмуванні та обробці даних.\n",
    "- Вони застосовуються у **пошукових системах**, базах даних, алгоритмах сортування, навігації графами та багатьох інших структурах даних.\n",
    "- Ефективний алгоритм пошуку дозволяє значно зменшити **час обчислень** та оптимізувати використання **ресурсів** комп'ютера, що критично для роботи зі **великими обсягами даних**.\n"
   ]
  },
  {
   "cell_type": "markdown",
   "id": "e97c7c37-1f91-457c-9c66-161fd5d971f2",
   "metadata": {},
   "source": [
    "## 2) Які основні критерії оцінки ефективності алгоритмів пошуку?"
   ]
  },
  {
   "cell_type": "markdown",
   "id": "9ac336ea-0e8e-41f4-a660-e375dab057e7",
   "metadata": {},
   "source": [
    "## 2. Які основні критерії оцінки ефективності алгоритмів пошуку?\n",
    "\n",
    "Оцінка алгоритмів пошуку здійснюється на основі таких критеріїв:\n",
    "\n",
    "- **Часова складність**:  \n",
    "  Визначає, скільки кроків виконує алгоритм для знаходження елемента в залежності від кількості даних $n$. Основні категорії складності:\n",
    "  - $O(1)$ — константний час\n",
    "  - $O(\\log n)$ — логарифмічний час\n",
    "  - $O(n)$ — лінійний час\n",
    "  - $O(n \\log n)$ та більше — для складніших алгоритмів\n",
    "\n",
    "- **Просторова складність**:  \n",
    "  Оцінка додаткової пам'яті, необхідної для роботи алгоритму.\n",
    "\n",
    "- **Випадок найгіршої складності (Worst-case)**:  \n",
    "  Максимальна кількість кроків, які може виконати алгоритм у найгіршому сценарії.\n",
    "\n",
    "- **Випадок середньої складності (Average-case)**:  \n",
    "  Очікувана продуктивність алгоритму у звичайних умовах.\n",
    "\n",
    "- **Стійкість до зміни даних**:  \n",
    "  Деякі алгоритми вимагають попереднього сортування даних, що впливає на їхню продуктивність.\n"
   ]
  },
  {
   "cell_type": "markdown",
   "id": "62082705-852f-41f8-bce1-b6f518245738",
   "metadata": {},
   "source": [
    "## 3) Що таке лінійний пошук, і як він працює?"
   ]
  },
  {
   "cell_type": "markdown",
   "id": "96a5e3be-8831-40d4-8555-fc6207c0a560",
   "metadata": {},
   "source": [
    "## 3. Що таке лінійний пошук і як він працює?\n",
    "\n",
    "### Лінійний пошук\n",
    "\n",
    "**Опис:**  \n",
    "Лінійний пошук — це простий алгоритм, який послідовно перевіряє кожен елемент списку до тих пір, поки не знайде потрібний елемент або не досягне кінця списку.\n",
    "\n",
    "### Як він працює:\n",
    "1. Починаючи з першого елемента списку, порівнюємо кожен елемент зі значенням, яке потрібно знайти.\n",
    "2. Якщо елемент збігається з цільовим значенням, алгоритм повертає **індекс** цього елемента.\n",
    "3. Якщо список закінчився і елемент не знайдено, алгоритм повертає результат \"не знайдено\".\n",
    "\n",
    "### Псевдокод:\n",
    "```python\n",
    "def linear_search(arr, target):\n",
    "    for i in range(len(arr)):\n",
    "        if arr[i] == target:\n",
    "            return i  # Повертаємо індекс знайденого елемента\n",
    "    return -1  # Елемент не знайдено"
   ]
  },
  {
   "cell_type": "markdown",
   "id": "d20e886c-8dc9-4576-b9a6-cfc06e8677a6",
   "metadata": {},
   "source": [
    "## 4) Які умови повинні бути виконані для успішного застосування бінарного пошуку?"
   ]
  },
  {
   "cell_type": "markdown",
   "id": "49f767ac-9749-4858-8f93-f3512a129f13",
   "metadata": {},
   "source": [
    "### 4. Умови успішного застосування бінарного пошуку\n",
    "\n",
    "Бінарний пошук є ефективним алгоритмом, проте для його коректної роботи необхідно виконати кілька умов:\n",
    "\n",
    "1. **Дані повинні бути відсортовані**:  \n",
    "   Алгоритм передбачає поділ списку на половини, тому список або масив має бути впорядкованим за зростанням чи спаданням.\n",
    "\n",
    "2. **Стійкий доступ до елементів**:  \n",
    "   Бінарний пошук передбачає **довільний доступ** до елементів за індексом (наприклад, у масивах). Це робить алгоритм менш придатним для структур із послідовним доступом, таких як зв'язні списки.\n",
    "\n",
    "3. **Однорідність даних**:  \n",
    "   Усі елементи у структурі даних повинні мати порівнювані значення, щоб можна було визначити, чи є елемент більшим або меншим за цільове значення."
   ]
  },
  {
   "cell_type": "markdown",
   "id": "8b3459ee-873c-45f3-a865-eabd21b770ba",
   "metadata": {},
   "source": [
    "## 5) Які переваги та недоліки використання бінарного пошуку порівняно з іншими алгоритмами пошуку?\n"
   ]
  },
  {
   "cell_type": "markdown",
   "id": "49fbce03-411b-4cad-ae9a-a781e961a2ca",
   "metadata": {},
   "source": [
    "\n",
    "## **Переваги**:\n",
    "1. **Висока ефективність**:  \n",
    "   Часова складність бінарного пошуку становить $O(\\log n)$, що робить його набагато швидшим за лінійний пошук ($O(n)$), особливо для великих структур даних.\n",
    "\n",
    "2. **Мінімальна кількість порівнянь**:  \n",
    "   Завдяки стратегії поділу на половини кількість перевірок елементів значно зменшується.\n",
    "\n",
    "3. **Простота реалізації**:  \n",
    "   Бінарний пошук є відносно простим у реалізації та може бути застосований до масивів та інших відсортованих структур.\n",
    "\n",
    "## **Недоліки**:\n",
    "1. **Вимога відсортованих даних**:  \n",
    "   Якщо дані не впорядковані, їх необхідно спочатку відсортувати, що додає складність $O(n \\log n)$ перед виконанням пошуку.\n",
    "\n",
    "2. **Не підходить для зв'язних списків**:  \n",
    "   Бінарний пошук вимагає доступу за індексом, що неможливо у зв'язних структурах з послідовним доступом.\n",
    "\n",
    "3. **Статичність даних**:  \n",
    "   Якщо дані часто змінюються (додаються або видаляються елементи), їх потрібно повторно сортувати для подальшого застосування бінарного пошуку.\n",
    "\n",
    "4. **Відносна складність порівняно з лінійним пошуком**:  \n",
    "   Для невеликих структур даних лінійний пошук може бути простішим і не потребувати сортування.\n"
   ]
  },
  {
   "cell_type": "markdown",
   "id": "1ad688ae-435e-47ee-8091-1087c4b2a879",
   "metadata": {},
   "source": [
    "## 6) Що таке тернарний пошук, і в чому його відмінність від бінарного пошуку?\n"
   ]
  },
  {
   "cell_type": "markdown",
   "id": "a13089f9-f700-4525-9ed3-efc01ba2033d",
   "metadata": {},
   "source": [
    "### Тернарний пошук\n",
    "\n",
    "## **Тернарний пошук**:\n",
    "Тернарний пошук — це алгоритм пошуку, який працює з **відсортованими даними** та поділяє структуру на **три частини** на кожному кроці, а не на дві, як у бінарному пошуку.\n",
    "\n",
    "### **Принцип роботи тернарного пошуку**:\n",
    "1. У кожній ітерації алгоритм обчислює **дві точки поділу** (замість однієї у бінарному пошуку) для розділення масиву на три частини.\n",
    "2. Порівнює цільовий елемент із елементами у двох точках поділу:\n",
    "   - Якщо значення збігається з будь-яким із цих елементів, пошук завершено.\n",
    "   - Якщо цільовий елемент менший за першу точку, пошук продовжується в **першій третині**.\n",
    "   - Якщо цільовий елемент більший за другу точку, пошук продовжується в **останній третині**.\n",
    "   - Інакше пошук відбувається у **середній частині**.\n"
   ]
  }
 ],
 "metadata": {
  "kernelspec": {
   "display_name": "Python 3 (ipykernel)",
   "language": "python",
   "name": "python3"
  },
  "language_info": {
   "codemirror_mode": {
    "name": "ipython",
    "version": 3
   },
   "file_extension": ".py",
   "mimetype": "text/x-python",
   "name": "python",
   "nbconvert_exporter": "python",
   "pygments_lexer": "ipython3",
   "version": "3.12.7"
  }
 },
 "nbformat": 4,
 "nbformat_minor": 5
}
